{
 "cells": [
  {
   "cell_type": "markdown",
   "metadata": {},
   "source": [
    "## **Battle of Neigborhoods: Comparing neignobroods between two cities - \"Large to Small\"**"
   ]
  },
  {
   "cell_type": "markdown",
   "metadata": {},
   "source": [
    "### **1. Introduction**\n",
    "In United States it is common to switch jobs and relocated from city to city, however relocation often poses a significant discomfort as new place might be quite different from the place person **XYZ** currently likes and enjoys a lot.  One of the drastic changes could be if **XYZ** considers moving from a large to a small city or vice versa, in this project we will explore the problem of moving from large to small city. The main question is if there are neighboroods with similar venues? \n"
   ]
  },
  {
   "cell_type": "markdown",
   "metadata": {},
   "source": [
    "### **Large To Small**\n",
    "As an axample of a large city we will choose **Alexandria, VA** which is part of Washintgon, DC Metro area and for small city we will use **Kalamazoo, MI**"
   ]
  },
  {
   "cell_type": "markdown",
   "metadata": {},
   "source": [
    "### **2. Data Overview**\n",
    "We will need the following data to solve the problem\n",
    "\n",
    "* List of neighborhoods and corresponding zipcodes for both cities \n",
    "* Longitude and Latitude coordinates for each neighborhood\n",
    "* List of venues their data for each neighborhood."
   ]
  },
  {
   "cell_type": "markdown",
   "metadata": {},
   "source": [
    "### **3. Method**\n",
    "1. We are going to use Foursquare data to locate venues in neighborhoods.\n",
    "2. Cluster neigborhoods using K-means method for each city.\n",
    "3. Map clusters using Foliuum \n",
    "4. Explore Clusters\n",
    "5. Compare Clustered Neighborhoods between two cities"
   ]
  },
  {
   "cell_type": "markdown",
   "metadata": {},
   "source": [
    "### **4. Start Processing Data in "
   ]
  }
 ],
 "metadata": {
  "kernelspec": {
   "display_name": "Python",
   "language": "python",
   "name": "conda-env-python-py"
  },
  "language_info": {
   "codemirror_mode": {
    "name": "ipython",
    "version": 3
   },
   "file_extension": ".py",
   "mimetype": "text/x-python",
   "name": "python",
   "nbconvert_exporter": "python",
   "pygments_lexer": "ipython3",
   "version": "3.6.10"
  }
 },
 "nbformat": 4,
 "nbformat_minor": 4
}
